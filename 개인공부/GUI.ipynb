{
 "cells": [
  {
   "cell_type": "code",
   "execution_count": null,
   "metadata": {},
   "outputs": [],
   "source": [
    "# gui 만들기\n",
    "# tkinter 라이브러리 사용\n",
    "from tkinter import *\n",
    "import datetime\n",
    "#tkinter선언\n",
    "def alert():\n",
    "    dnow = datetime.datetime.now()\n",
    "    btn.config(text=dnow)\n",
    "\n",
    "myGui = Tk()\n",
    "# 창크기 설정\n",
    "myGui.geometry(\"300x100\")\n",
    "# 타이틀 설정\n",
    "myGui.title('문서 계산기')\n",
    "# 옵션으로 글자폰트 설정\n",
    "myGui.option_add('*Font', '맑은고딕 20')\n",
    "# 버튼 생성\n",
    "btn = Button(myGui)\n",
    "# 버튼 크기\n",
    "btn.config(width=10, height=10)\n",
    "# 버튼 내용\n",
    "btn.config(text='버튼')\n",
    "# 버튼 기능\n",
    "btn.config(command=alert)\n",
    "btn.pack()\n",
    "myGui.mainloop()"
   ]
  },
  {
   "cell_type": "code",
   "execution_count": null,
   "metadata": {},
   "outputs": [],
   "source": [
    "from tkinter import * \n",
    "win = Tk()\n",
    "win.geometry('300x100')\n",
    "win.option_add('*Font', '맑은고딕 20')\n",
    "win.title('로또번호 검색')\n",
    "\n",
    "ent = Entry(win)\n",
    "ent.pack()\n",
    "def ent_num():\n",
    "    a = ent.get()\n",
    "    print(a)\n",
    "\n",
    "btn = Button(win)\n",
    "btn.config(text='로또 당첨번호 확인')\n",
    "btn.config(command=ent_num)\n",
    "btn.pack()\n",
    "win.mainloop()"
   ]
  }
 ],
 "metadata": {
  "language_info": {
   "name": "python"
  },
  "orig_nbformat": 4
 },
 "nbformat": 4,
 "nbformat_minor": 2
}
